{
  "nbformat": 4,
  "nbformat_minor": 0,
  "metadata": {
    "colab": {
      "provenance": [],
      "authorship_tag": "ABX9TyMIHajCEcNfs5Tsoe7CADNk",
      "include_colab_link": true
    },
    "kernelspec": {
      "name": "python3",
      "display_name": "Python 3"
    },
    "language_info": {
      "name": "python"
    }
  },
  "cells": [
    {
      "cell_type": "markdown",
      "metadata": {
        "id": "view-in-github",
        "colab_type": "text"
      },
      "source": [
        "<a href=\"https://colab.research.google.com/github/Brusscorrea/Actividad-Company/blob/main/Actividad_Employee.ipynb\" target=\"_parent\"><img src=\"https://colab.research.google.com/assets/colab-badge.svg\" alt=\"Open In Colab\"/></a>"
      ]
    },
    {
      "cell_type": "code",
      "source": [
        "from abc import ABC, abstractmethod\n",
        "\n",
        "class AbstractEmployee(ABC):\n",
        "    new_id = 1\n",
        "\n",
        "    def __init__(self):\n",
        "        self.id = AbstractEmployee.new_id\n",
        "        AbstractEmployee.new_id += 1\n",
        "\n",
        "    @abstractmethod\n",
        "    def say_id(self):\n",
        "        pass\n",
        "\n",
        "class Employee(AbstractEmployee):\n",
        "    def __init__(self, name=None):\n",
        "        super().__init__()\n",
        "        self._name = name\n",
        "        self.__company = 'EcoTech Solutions'\n",
        "\n",
        "    def say_id(self):\n",
        "        print(f'Mi id es {self.id}')\n",
        "\n",
        "    @property\n",
        "    def name(self):\n",
        "        return self._name\n",
        "\n",
        "    @name.setter\n",
        "    def name(self, name):\n",
        "        self._name = name\n",
        "\n",
        "    @name.deleter\n",
        "    def name(self):\n",
        "        del self._name\n",
        "\n",
        "class User:\n",
        "    def __init__(self, username, role):\n",
        "        self.username = username\n",
        "        self.role = role\n",
        "\n",
        "    def say_user_info(self):\n",
        "        print(f'Usuario: {self.username}; Rol: {self.role}')\n",
        "\n",
        "class Admin(Employee, User):\n",
        "    def __init__(self, username):\n",
        "        Employee.__init__(self, username)\n",
        "        User.__init__(self, username, 'Administrador')\n",
        "\n",
        "    def say_id(self):\n",
        "        super().say_id()\n",
        "        print(\"Yo soy un administrador\")\n",
        "\n",
        "class Manager(Admin):\n",
        "    def __init__(self, username):\n",
        "        super().__init__(username)\n",
        "\n",
        "    def say_id(self):\n",
        "        super().say_id()\n",
        "        print(\"Yo soy el jefe\")\n",
        "\n",
        "class Meeting:\n",
        "    def __init__(self):\n",
        "        self.attendees = []\n",
        "\n",
        "    def add(self, employee):\n",
        "        if isinstance(employee, Employee):\n",
        "            self.attendees.append(employee)\n",
        "            print(f\"Empleado con id: {employee.id} agregado exitosamente a la reunion\")\n",
        "\n",
        "    def __len__(self):\n",
        "        return len(self.attendees)\n",
        "\n",
        "e1 = Employee(\"María García\")\n",
        "e2 = Employee(\"Alejandro Martínez\")\n",
        "e3 = Admin(\"Sofia Rodríguez\")\n",
        "e4 = Manager(\"Javier López\")\n",
        "\n",
        "m1 = Meeting()\n",
        "m1.add(e1)\n",
        "m1.add(e2)\n",
        "m1.add(e3)\n",
        "m1.add(e4)\n",
        "print(f\"# Asistentes a la reunión: {len(m1)}\")\n",
        "for e in m1.attendees:\n",
        "  print(f\"\\nMi nombre es: {e.name} y trabajo para {e._Employee__company}\")\n",
        "  e.say_id()\n",
        "  try:\n",
        "    e.say_user_info()\n",
        "  except AttributeError:\n",
        "    continue\n",
        "del e1.name\n"
      ],
      "metadata": {
        "colab": {
          "base_uri": "https://localhost:8080/"
        },
        "id": "Hb8uUngBOqVv",
        "outputId": "0f27d34b-d001-4948-de05-a28b16550b93"
      },
      "execution_count": 10,
      "outputs": [
        {
          "output_type": "stream",
          "name": "stdout",
          "text": [
            "Empleado con id: 1 agregado exitosamente a la reunion\n",
            "Empleado con id: 2 agregado exitosamente a la reunion\n",
            "Empleado con id: 3 agregado exitosamente a la reunion\n",
            "Empleado con id: 4 agregado exitosamente a la reunion\n",
            "# Asistentes a la reunión: 4\n",
            "\n",
            "Mi nombre es: María García y trabajo para EcoTech Solutions\n",
            "Mi id es 1\n",
            "\n",
            "Mi nombre es: Alejandro Martínez y trabajo para EcoTech Solutions\n",
            "Mi id es 2\n",
            "\n",
            "Mi nombre es: Sofia Rodríguez y trabajo para EcoTech Solutions\n",
            "Mi id es 3\n",
            "Yo soy un administrador\n",
            "Usuario: Sofia Rodríguez; Rol: Administrador\n",
            "\n",
            "Mi nombre es: Javier López y trabajo para EcoTech Solutions\n",
            "Mi id es 4\n",
            "Yo soy un administrador\n",
            "Yo soy el jefe\n",
            "Usuario: Javier López; Rol: Administrador\n"
          ]
        }
      ]
    },
    {
      "cell_type": "markdown",
      "source": [
        "Presentado por: Bruss Andres Correa Roqueme\n",
        "\n",
        "Email: bruss.correa@upb.edu.co\n",
        "\n",
        "ID: 000556755"
      ],
      "metadata": {
        "id": "CtUqVCX_WzAj"
      }
    }
  ]
}